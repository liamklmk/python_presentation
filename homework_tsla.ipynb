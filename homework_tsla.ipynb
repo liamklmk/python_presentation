{
 "cells": [
  {
   "cell_type": "code",
   "execution_count": 1,
   "id": "b6b088e7",
   "metadata": {},
   "outputs": [],
   "source": [
    "import pandas as pd\n",
    "import numpy as np\n",
    "import matplotlib.pyplot as plt"
   ]
  },
  {
   "cell_type": "code",
   "execution_count": 2,
   "id": "764b7e57",
   "metadata": {},
   "outputs": [],
   "source": [
    "t = 'data/tsla.csv'\n",
    "df = pd.read_csv(t, decimal = '.')\n",
    "df = df[['Date', 'Close']]\n",
    "df['Date'] = pd.to_datetime(df['Date'], format = '%Y-%m-%d')\n",
    "df = df[(df['Date'].dt.year >= 2011) & (df['Date'].dt.year <= 2022)]\n",
    "df['Return in %'] = (np.log(df['Close']) - np.log(df['Close']).shift(1)) * 100\n",
    "df_avg = df['Return in %'].groupby(df['Date'].dt.year).mean()"
   ]
  },
  {
   "cell_type": "code",
   "execution_count": 3,
   "id": "4cde417e",
   "metadata": {
    "scrolled": false
   },
   "outputs": [
    {
     "data": {
      "text/plain": [
       "Date\n",
       "2011    0.028026\n",
       "2012    0.068209\n",
       "2013    0.591654\n",
       "2014    0.155168\n",
       "2015    0.030221\n",
       "2016   -0.046093\n",
       "2017    0.149957\n",
       "2018    0.026543\n",
       "2019    0.090765\n",
       "2020    0.842812\n",
       "2021    0.160252\n",
       "2022   -0.418615\n",
       "Name: Return in %, dtype: float64"
      ]
     },
     "execution_count": 3,
     "metadata": {},
     "output_type": "execute_result"
    }
   ],
   "source": [
    "df_avg"
   ]
  },
  {
   "cell_type": "code",
   "execution_count": 4,
   "id": "d637f9dc",
   "metadata": {},
   "outputs": [
    {
     "data": {
      "text/plain": [
       "{2011: 0.028,\n",
       " 2012: 0.068,\n",
       " 2013: 0.592,\n",
       " 2014: 0.155,\n",
       " 2015: 0.03,\n",
       " 2016: -0.046,\n",
       " 2017: 0.15,\n",
       " 2018: 0.027,\n",
       " 2019: 0.091,\n",
       " 2020: 0.843,\n",
       " 2021: 0.16,\n",
       " 2022: -0.419}"
      ]
     },
     "execution_count": 4,
     "metadata": {},
     "output_type": "execute_result"
    }
   ],
   "source": [
    "years = list(df_avg.index)\n",
    "values = list(np.round(df_avg.values, 3))\n",
    "\n",
    "zipped = zip(years, values)\n",
    "\n",
    "my_dict = dict(zipped)\n",
    "my_dict"
   ]
  }
 ],
 "metadata": {
  "kernelspec": {
   "display_name": "Python 3 (ipykernel)",
   "language": "python",
   "name": "python3"
  },
  "language_info": {
   "codemirror_mode": {
    "name": "ipython",
    "version": 3
   },
   "file_extension": ".py",
   "mimetype": "text/x-python",
   "name": "python",
   "nbconvert_exporter": "python",
   "pygments_lexer": "ipython3",
   "version": "3.11.5"
  }
 },
 "nbformat": 4,
 "nbformat_minor": 5
}
